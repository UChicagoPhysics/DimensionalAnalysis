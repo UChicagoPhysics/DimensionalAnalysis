{
 "cells": [
  {
   "cell_type": "markdown",
   "metadata": {},
   "source": [
    "# Trinity atomic bomb test\n",
    "\n",
    "From the [Atomic Archive](https://www.atomicarchive.com/media/photographs/trinity/index.html): \n",
    "\n",
    "\"On July 16, 1945, at 5:29:45 AM, a light \"brighter than a thousand suns,\" filled the valley. As the now familiar mushroom cloud rose in to the sky, Oppenheimer quoted from Hindu scripture, the Bhagavad-gita, \"Now I am become death, the destroyer of worlds.\" The world had entered the nuclear age.\"\n",
    "\n",
    "Despite the tragic consequences of this test and the technology development of which it was a part, we will analyze this system as we do many others in physics and we will attempt to determine the functional relationship among the various aspects of the system and compare to data."
   ]
  },
  {
   "cell_type": "markdown",
   "metadata": {},
   "source": [
    "## Software setup\n",
    "\n",
    "First, we need to import some python packages for the analysis. "
   ]
  },
  {
   "cell_type": "code",
   "execution_count": null,
   "metadata": {},
   "outputs": [],
   "source": [
    "# The packages we need\n",
    "import numpy as np\n",
    "import pandas as pd\n",
    "import matplotlib.pyplot as plt\n",
    "\n",
    "# Set the notebook option to show us the plots in the browser\n",
    "%matplotlib inline\n",
    "\n",
    "# Configure some of the matplotlib plotting options\n",
    "plt.rcParams['figure.facecolor'] = 'w'\n",
    "from matplotlib import rc\n",
    "rc('text',usetex=True)\n",
    "plt.rcParams.update({'font.size': 30})\n",
    "plt.rcParams['axes.titlesize'] = 30"
   ]
  },
  {
   "cell_type": "markdown",
   "metadata": {},
   "source": [
    "## Data from the Trinity test\n",
    "\n",
    "Data are originally from [G.I. Taylor *The formation of a blast wave by a very intense explosion: II. The atomic explosion of 1945.* Proc. R. Soc. Lond. **A201** 175–186](https://royalsocietypublishing.org/doi/pdf/10.1098/rspa.1950.0050#page=2). \n",
    "\n",
    "A version of this notebook was developed and provided by [Jorge Diaz](https://jsdiazpo.github.io/bio.html) a data scientist at BASF who received a Ph.D. in Theoretical Physics from Indiana University Bloomington. Credit and thanks to Dr. Diaz!"
   ]
  },
  {
   "cell_type": "code",
   "execution_count": null,
   "metadata": {},
   "outputs": [],
   "source": [
    "df_Trinity = pd.read_csv('GITaylor_Trinity_data.csv')"
   ]
  },
  {
   "cell_type": "markdown",
   "metadata": {},
   "source": [
    "Always a good idea to just print out and look at your data before you do anything else."
   ]
  },
  {
   "cell_type": "code",
   "execution_count": null,
   "metadata": {},
   "outputs": [],
   "source": [
    "df_Trinity"
   ]
  },
  {
   "cell_type": "markdown",
   "metadata": {},
   "source": [
    "First, let's change to seconds so that our *dimensionful* calculations later on will make more sense."
   ]
  },
  {
   "cell_type": "code",
   "execution_count": null,
   "metadata": {},
   "outputs": [],
   "source": [
    "df_Trinity['t_sec'] = df_Trinity['t_msec'] * 1e-3  # convert msec to sec"
   ]
  },
  {
   "cell_type": "markdown",
   "metadata": {},
   "source": [
    "Second, let's pre-calculate the quantities that we plotted (by hand) in lecture."
   ]
  },
  {
   "cell_type": "code",
   "execution_count": null,
   "metadata": {},
   "outputs": [],
   "source": [
    "df_Trinity['log10_t']     = df_Trinity['t_sec'].apply(lambda x: np.log10(x))\n",
    "df_Trinity['5/2*log10_R'] = df_Trinity['R_m'].apply(lambda x: 5/2*np.log10(x))"
   ]
  },
  {
   "cell_type": "markdown",
   "metadata": {},
   "source": [
    "Print out the data again to make sure it makes sense."
   ]
  },
  {
   "cell_type": "code",
   "execution_count": null,
   "metadata": {},
   "outputs": [],
   "source": [
    "df_Trinity"
   ]
  },
  {
   "cell_type": "markdown",
   "metadata": {},
   "source": [
    "## Plotting the Trinity blast data"
   ]
  },
  {
   "cell_type": "code",
   "execution_count": null,
   "metadata": {},
   "outputs": [],
   "source": [
    "# Create the axes for the plotting\n",
    "fig, ax = plt.subplots(figsize=(10,10))\n",
    "\n",
    "# Set some basic variables that we'll use to adjust the axis ranges\n",
    "xmin, xmax = -4.5, 0\n",
    "ymin, ymax = 2, 7\n",
    "\n",
    "# Add a scatter plot to the axes\n",
    "ax.scatter(df_Trinity['log10_t'], df_Trinity['5/2*log10_R'], s=180, marker='+', color='r')\n",
    "\n",
    "# Clean up the aesthetics a bit\n",
    "ax.set(xlim=[xmin, xmax], \n",
    "       ylim=[ymin, ymax], \n",
    "       xlabel=r'$\\log(t)$', \n",
    "       ylabel=r'$\\frac{5}{2}\\log(R)$',\n",
    "       title=r'Radius $R$ of blast wave at time $t$ after explosion'\n",
    "      );\n",
    "\n",
    "# Safe plot to a file\n",
    "fig.savefig('TrinityBlastWave-raw.pdf', bbox_inches='tight')"
   ]
  },
  {
   "cell_type": "markdown",
   "metadata": {},
   "source": [
    "## Extracting a \"result\" from the data\n",
    "\n",
    "The plot above is great, but the plot itself does not tell us anything about the dynamics or kinematics of the blast. For that, we need to fit for the $y$-intercept."
   ]
  },
  {
   "cell_type": "markdown",
   "metadata": {},
   "source": [
    "### Fitting the data\n",
    "\n",
    "Let's fit a straight line to this data using a simple linear regression"
   ]
  },
  {
   "cell_type": "markdown",
   "metadata": {},
   "source": [
    "First, extract the values of the data into a simple array which is more easily used by numpy for fitting."
   ]
  },
  {
   "cell_type": "code",
   "execution_count": null,
   "metadata": {},
   "outputs": [],
   "source": [
    "values_logt = df_Trinity['log10_t'].values\n",
    "values_logt"
   ]
  },
  {
   "cell_type": "markdown",
   "metadata": {},
   "source": [
    "Manipulate the array so that we get a set of values that can be easily input into the `LinearRegression` library for `scikit-learn`: [`fit(X, y)`](https://scikit-learn.org/stable/modules/generated/sklearn.linear_model.LinearRegression.html). \n",
    "\n",
    "For this, we have to use `array.reshape(1, -1)` since the data represents just a single \"sample\" of the relationship (i.e. just one \"experiment\"). If you try to just use the simple 1-D array directly, you'll get an error message from `scikit-learn` telling you to do exactly this anyway."
   ]
  },
  {
   "cell_type": "code",
   "execution_count": null,
   "metadata": {},
   "outputs": [],
   "source": [
    "X = values_logt.reshape(1, -1).T\n",
    "X"
   ]
  },
  {
   "cell_type": "code",
   "execution_count": null,
   "metadata": {},
   "outputs": [],
   "source": [
    "values_logR = df_Trinity['5/2*log10_R'].values\n",
    "values_logR"
   ]
  },
  {
   "cell_type": "code",
   "execution_count": null,
   "metadata": {},
   "outputs": [],
   "source": [
    "values_logt.shape, X.shape, values_logR.shape"
   ]
  },
  {
   "cell_type": "markdown",
   "metadata": {},
   "source": [
    "#### Perform the actual fit"
   ]
  },
  {
   "cell_type": "code",
   "execution_count": null,
   "metadata": {},
   "outputs": [],
   "source": [
    "from sklearn.linear_model import LinearRegression\n",
    "\n",
    "trinity_model = LinearRegression()\n",
    "trinity_model.fit(X, values_logR)\n",
    "\n",
    "print(f'slope    : m = {trinity_model.coef_[0]:.3f}')\n",
    "print(f'intercept: b = {trinity_model.intercept_:.3f}')"
   ]
  },
  {
   "cell_type": "markdown",
   "metadata": {},
   "source": [
    "### Interpreting the results\n",
    "\n",
    "Now we have the $y$-intercept for the Trinity blast...but what does this tell us?"
   ]
  },
  {
   "cell_type": "markdown",
   "metadata": {},
   "source": [
    "The energy is given in terms of the intercept $b$ as\n",
    "\n",
    "$$ b = \\frac{1}{2} \\log \\left(\\frac{E}{k^5 \\rho}\\right) $$\n",
    "\n",
    "where $\\rho$=1.23 kg/m$^3$ is the density of air. \n",
    "\n",
    "The undetermined factor $k$ is more difficult, however. The good news is that Taylor determined the value using numerical integration to find an approximation, Sedov found an exact form. \n",
    "\n",
    "As also relayed by Diaz in his paper, there are accounts that say that Taylor scaled up the value of $k$ from small explosions, which is not true. The focus of the theoretical discussion in his first paper is about solving the hydrodynamic equations of the shock wave to find the value of this factor. "
   ]
  },
  {
   "cell_type": "code",
   "execution_count": null,
   "metadata": {},
   "outputs": [],
   "source": [
    "# Create the axes for the plotting\n",
    "fig, ax = plt.subplots(figsize=(10,10))\n",
    "\n",
    "# Set some basic variables that we'll use to adjust the axis ranges\n",
    "xmin, xmax = -4.5, 0\n",
    "ymin, ymax = 2, 7\n",
    "\n",
    "# Add a scatter plot to the axes\n",
    "ax.scatter(df_Trinity['log10_t'], df_Trinity['5/2*log10_R'], s=180, marker='+', color='r', label='data', zorder=10)\n",
    "\n",
    "# Add a linear fit\n",
    "trinity_logt = np.linspace(xmin, xmax, 2)\n",
    "ax.plot(trinity_logt, \n",
    "        trinity_model.intercept_ + trinity_model.coef_[0] * trinity_logt, \n",
    "        'k--', \n",
    "        linewidth=1, \n",
    "        label=f'linear regression', \n",
    "        zorder=0, \n",
    "        alpha=0.95)\n",
    "\n",
    "# Show the legend\n",
    "ax.legend();\n",
    "\n",
    "# Clean up the aesthetics a bit\n",
    "ax.set(xlim=[xmin, xmax], \n",
    "       ylim=[ymin, ymax], \n",
    "       xlabel=r'$\\log(t)$', \n",
    "       ylabel=r'$\\frac{5}{2}\\log(R)$',\n",
    "       title=r'Radius $R$ of blast wave at time $t$ after explosion'\n",
    "      );\n",
    "\n",
    "# Safe plot to a file\n",
    "fig.savefig('TrinityBlastWave-fit.pdf', bbox_inches='tight')"
   ]
  },
  {
   "cell_type": "markdown",
   "metadata": {},
   "source": [
    "### Determining the energy of the blast"
   ]
  },
  {
   "cell_type": "markdown",
   "metadata": {},
   "source": [
    "The energy is given in terms of the intercept $b$ as\n",
    "\n",
    "$$ E_0 = k^5 10^{2b}\\rho_0 $$\n",
    "\n",
    "where $\\rho_0$=1.23 kg/m$^3$ in the density of the undisturbed air, and the constant $k$ is determined by evaluating the hydrodynamics of air under intense pressure changes. By using the standard specific heat ratio $\\gamma$ (where $\\gamma=1.4$ for air) the constant was determined by Taylor to be $k^5 = S(1.4)^{-5}$ = 0.856."
   ]
  },
  {
   "cell_type": "code",
   "execution_count": null,
   "metadata": {},
   "outputs": [],
   "source": [
    "# explosion yield in kt TNT\n",
    "# 4.18 TJ = 1 kt TNT\n",
    "#E0 = 10**(2*trinity_model.intercept_) * 0.856 * 1.23\n",
    "E0 = 10**(2*6.9) * 0.856 * 1.23\n",
    "print(f'Trinity: Energy = {E0 / ( 4.184e12):.2f} kt TNT  ({E0:.4E} J)')"
   ]
  }
 ],
 "metadata": {
  "kernelspec": {
   "display_name": "Python 3",
   "language": "python",
   "name": "python3"
  },
  "language_info": {
   "codemirror_mode": {
    "name": "ipython",
    "version": 3
   },
   "file_extension": ".py",
   "mimetype": "text/x-python",
   "name": "python",
   "nbconvert_exporter": "python",
   "pygments_lexer": "ipython3",
   "version": "3.7.6"
  }
 },
 "nbformat": 4,
 "nbformat_minor": 2
}
