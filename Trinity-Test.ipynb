{
 "cells": [
  {
   "cell_type": "markdown",
   "metadata": {},
   "source": [
    "# Trinity atomic bomb test\n",
    "\n",
    "From the [Atomic Archive](https://www.atomicarchive.com/media/photographs/trinity/index.html): \n",
    "\n",
    "\"On July 16, 1945, at 5:29:45 AM, a light \"brighter than a thousand suns,\" filled the valley. As the now familiar mushroom cloud rose in to the sky, Oppenheimer quoted from Hindu scripture, the Bhagavad-gita, \"Now I am become death, the destroyer of worlds.\" The world had entered the nuclear age.\"\n",
    "\n",
    "Despite the tragic consequences of this test and the technology development of which it was a part, we will analyze this system as we do many others in physics and we will attempt to determine the functional relationship among the various aspects of the system and compare to data."
   ]
  },
  {
   "cell_type": "markdown",
   "metadata": {},
   "source": [
    "## Software setup\n",
    "\n",
    "First, we need to import some python packages for the analysis. "
   ]
  },
  {
   "cell_type": "code",
   "execution_count": 1,
   "metadata": {},
   "outputs": [],
   "source": [
    "# The packages we need\n",
    "import numpy as np\n",
    "import pandas as pd\n",
    "import matplotlib.pyplot as plt\n",
    "\n",
    "# Set the notebook option to show us the plots in the browser\n",
    "%matplotlib inline\n",
    "\n",
    "# Configure some of the matplotlib plotting options\n",
    "plt.rcParams['figure.facecolor'] = 'w'\n",
    "from matplotlib import rc\n",
    "rc('text',usetex=True)\n",
    "plt.rcParams.update({'font.size': 30})\n",
    "plt.rcParams['axes.titlesize'] = 30"
   ]
  },
  {
   "cell_type": "markdown",
   "metadata": {},
   "source": [
    "## Data from the Trinity test\n",
    "\n",
    "Data are originally from [G.I. Taylor *The formation of a blast wave by a very intense explosion: II. The atomic explosion of 1945.* Proc. R. Soc. Lond. **A201** 175–186](https://royalsocietypublishing.org/doi/pdf/10.1098/rspa.1950.0050#page=2). \n",
    "\n",
    "A version of this notebook was developed and provided by [Jorge Diaz](https://jsdiazpo.github.io/bio.html) a data scientist at BASF who received a Ph.D. in Theoretical Physics from Indiana University Bloomington. Credit and thanks to Dr. Diaz!"
   ]
  },
  {
   "cell_type": "code",
   "execution_count": 2,
   "metadata": {},
   "outputs": [],
   "source": [
    "df_Trinity = pd.read_csv('GITaylor_Trinity_data.csv')"
   ]
  },
  {
   "cell_type": "markdown",
   "metadata": {},
   "source": [
    "Always a good idea to just print out and look at your data before you do anything else."
   ]
  },
  {
   "cell_type": "code",
   "execution_count": 3,
   "metadata": {},
   "outputs": [
    {
     "data": {
      "text/html": [
       "<div>\n",
       "<style scoped>\n",
       "    .dataframe tbody tr th:only-of-type {\n",
       "        vertical-align: middle;\n",
       "    }\n",
       "\n",
       "    .dataframe tbody tr th {\n",
       "        vertical-align: top;\n",
       "    }\n",
       "\n",
       "    .dataframe thead th {\n",
       "        text-align: right;\n",
       "    }\n",
       "</style>\n",
       "<table border=\"1\" class=\"dataframe\">\n",
       "  <thead>\n",
       "    <tr style=\"text-align: right;\">\n",
       "      <th></th>\n",
       "      <th>t_msec</th>\n",
       "      <th>R_m</th>\n",
       "    </tr>\n",
       "  </thead>\n",
       "  <tbody>\n",
       "    <tr>\n",
       "      <th>0</th>\n",
       "      <td>0.10</td>\n",
       "      <td>11.1</td>\n",
       "    </tr>\n",
       "    <tr>\n",
       "      <th>1</th>\n",
       "      <td>0.24</td>\n",
       "      <td>19.9</td>\n",
       "    </tr>\n",
       "    <tr>\n",
       "      <th>2</th>\n",
       "      <td>0.38</td>\n",
       "      <td>25.4</td>\n",
       "    </tr>\n",
       "    <tr>\n",
       "      <th>3</th>\n",
       "      <td>0.52</td>\n",
       "      <td>28.8</td>\n",
       "    </tr>\n",
       "    <tr>\n",
       "      <th>4</th>\n",
       "      <td>0.66</td>\n",
       "      <td>31.9</td>\n",
       "    </tr>\n",
       "    <tr>\n",
       "      <th>5</th>\n",
       "      <td>0.80</td>\n",
       "      <td>34.2</td>\n",
       "    </tr>\n",
       "    <tr>\n",
       "      <th>6</th>\n",
       "      <td>0.94</td>\n",
       "      <td>36.3</td>\n",
       "    </tr>\n",
       "    <tr>\n",
       "      <th>7</th>\n",
       "      <td>1.08</td>\n",
       "      <td>38.9</td>\n",
       "    </tr>\n",
       "    <tr>\n",
       "      <th>8</th>\n",
       "      <td>1.22</td>\n",
       "      <td>41.0</td>\n",
       "    </tr>\n",
       "    <tr>\n",
       "      <th>9</th>\n",
       "      <td>1.36</td>\n",
       "      <td>42.8</td>\n",
       "    </tr>\n",
       "    <tr>\n",
       "      <th>10</th>\n",
       "      <td>1.50</td>\n",
       "      <td>44.4</td>\n",
       "    </tr>\n",
       "    <tr>\n",
       "      <th>11</th>\n",
       "      <td>1.65</td>\n",
       "      <td>46.0</td>\n",
       "    </tr>\n",
       "    <tr>\n",
       "      <th>12</th>\n",
       "      <td>1.79</td>\n",
       "      <td>46.9</td>\n",
       "    </tr>\n",
       "    <tr>\n",
       "      <th>13</th>\n",
       "      <td>1.93</td>\n",
       "      <td>48.7</td>\n",
       "    </tr>\n",
       "    <tr>\n",
       "      <th>14</th>\n",
       "      <td>3.26</td>\n",
       "      <td>59.0</td>\n",
       "    </tr>\n",
       "    <tr>\n",
       "      <th>15</th>\n",
       "      <td>3.53</td>\n",
       "      <td>61.1</td>\n",
       "    </tr>\n",
       "    <tr>\n",
       "      <th>16</th>\n",
       "      <td>3.80</td>\n",
       "      <td>62.9</td>\n",
       "    </tr>\n",
       "    <tr>\n",
       "      <th>17</th>\n",
       "      <td>4.07</td>\n",
       "      <td>64.3</td>\n",
       "    </tr>\n",
       "    <tr>\n",
       "      <th>18</th>\n",
       "      <td>4.34</td>\n",
       "      <td>65.6</td>\n",
       "    </tr>\n",
       "    <tr>\n",
       "      <th>19</th>\n",
       "      <td>4.61</td>\n",
       "      <td>67.3</td>\n",
       "    </tr>\n",
       "    <tr>\n",
       "      <th>20</th>\n",
       "      <td>15.00</td>\n",
       "      <td>106.5</td>\n",
       "    </tr>\n",
       "    <tr>\n",
       "      <th>21</th>\n",
       "      <td>25.00</td>\n",
       "      <td>130.0</td>\n",
       "    </tr>\n",
       "    <tr>\n",
       "      <th>22</th>\n",
       "      <td>34.00</td>\n",
       "      <td>145.0</td>\n",
       "    </tr>\n",
       "    <tr>\n",
       "      <th>23</th>\n",
       "      <td>53.00</td>\n",
       "      <td>175.0</td>\n",
       "    </tr>\n",
       "    <tr>\n",
       "      <th>24</th>\n",
       "      <td>62.00</td>\n",
       "      <td>185.0</td>\n",
       "    </tr>\n",
       "  </tbody>\n",
       "</table>\n",
       "</div>"
      ],
      "text/plain": [
       "    t_msec    R_m\n",
       "0     0.10   11.1\n",
       "1     0.24   19.9\n",
       "2     0.38   25.4\n",
       "3     0.52   28.8\n",
       "4     0.66   31.9\n",
       "5     0.80   34.2\n",
       "6     0.94   36.3\n",
       "7     1.08   38.9\n",
       "8     1.22   41.0\n",
       "9     1.36   42.8\n",
       "10    1.50   44.4\n",
       "11    1.65   46.0\n",
       "12    1.79   46.9\n",
       "13    1.93   48.7\n",
       "14    3.26   59.0\n",
       "15    3.53   61.1\n",
       "16    3.80   62.9\n",
       "17    4.07   64.3\n",
       "18    4.34   65.6\n",
       "19    4.61   67.3\n",
       "20   15.00  106.5\n",
       "21   25.00  130.0\n",
       "22   34.00  145.0\n",
       "23   53.00  175.0\n",
       "24   62.00  185.0"
      ]
     },
     "execution_count": 3,
     "metadata": {},
     "output_type": "execute_result"
    }
   ],
   "source": [
    "df_Trinity"
   ]
  },
  {
   "cell_type": "markdown",
   "metadata": {},
   "source": [
    "First, let's change to seconds so that our *dimensionful* calculations later on will make more sense."
   ]
  },
  {
   "cell_type": "code",
   "execution_count": 4,
   "metadata": {},
   "outputs": [],
   "source": [
    "df_Trinity['t_sec'] = df_Trinity['t_msec'] * 1e-3  # convert msec to sec"
   ]
  },
  {
   "cell_type": "markdown",
   "metadata": {},
   "source": [
    "Second, let's pre-calculate the quantities that we plotted (by hand) in lecture."
   ]
  },
  {
   "cell_type": "code",
   "execution_count": 5,
   "metadata": {},
   "outputs": [],
   "source": [
    "df_Trinity['log10_t']     = df_Trinity['t_sec'].apply(lambda x: np.log10(x))\n",
    "df_Trinity['5/2*log10_R'] = df_Trinity['R_m'].apply(lambda x: 5/2*np.log10(x))"
   ]
  },
  {
   "cell_type": "markdown",
   "metadata": {},
   "source": [
    "Print out the data again to make sure it makes sense."
   ]
  },
  {
   "cell_type": "code",
   "execution_count": 6,
   "metadata": {},
   "outputs": [
    {
     "data": {
      "text/html": [
       "<div>\n",
       "<style scoped>\n",
       "    .dataframe tbody tr th:only-of-type {\n",
       "        vertical-align: middle;\n",
       "    }\n",
       "\n",
       "    .dataframe tbody tr th {\n",
       "        vertical-align: top;\n",
       "    }\n",
       "\n",
       "    .dataframe thead th {\n",
       "        text-align: right;\n",
       "    }\n",
       "</style>\n",
       "<table border=\"1\" class=\"dataframe\">\n",
       "  <thead>\n",
       "    <tr style=\"text-align: right;\">\n",
       "      <th></th>\n",
       "      <th>t_msec</th>\n",
       "      <th>R_m</th>\n",
       "      <th>t_sec</th>\n",
       "      <th>log10_t</th>\n",
       "      <th>5/2*log10_R</th>\n",
       "    </tr>\n",
       "  </thead>\n",
       "  <tbody>\n",
       "    <tr>\n",
       "      <th>0</th>\n",
       "      <td>0.10</td>\n",
       "      <td>11.1</td>\n",
       "      <td>0.00010</td>\n",
       "      <td>-4.000000</td>\n",
       "      <td>2.613307</td>\n",
       "    </tr>\n",
       "    <tr>\n",
       "      <th>1</th>\n",
       "      <td>0.24</td>\n",
       "      <td>19.9</td>\n",
       "      <td>0.00024</td>\n",
       "      <td>-3.619789</td>\n",
       "      <td>3.247133</td>\n",
       "    </tr>\n",
       "    <tr>\n",
       "      <th>2</th>\n",
       "      <td>0.38</td>\n",
       "      <td>25.4</td>\n",
       "      <td>0.00038</td>\n",
       "      <td>-3.420216</td>\n",
       "      <td>3.512084</td>\n",
       "    </tr>\n",
       "    <tr>\n",
       "      <th>3</th>\n",
       "      <td>0.52</td>\n",
       "      <td>28.8</td>\n",
       "      <td>0.00052</td>\n",
       "      <td>-3.283997</td>\n",
       "      <td>3.648481</td>\n",
       "    </tr>\n",
       "    <tr>\n",
       "      <th>4</th>\n",
       "      <td>0.66</td>\n",
       "      <td>31.9</td>\n",
       "      <td>0.00066</td>\n",
       "      <td>-3.180456</td>\n",
       "      <td>3.759477</td>\n",
       "    </tr>\n",
       "    <tr>\n",
       "      <th>5</th>\n",
       "      <td>0.80</td>\n",
       "      <td>34.2</td>\n",
       "      <td>0.00080</td>\n",
       "      <td>-3.096910</td>\n",
       "      <td>3.835065</td>\n",
       "    </tr>\n",
       "    <tr>\n",
       "      <th>6</th>\n",
       "      <td>0.94</td>\n",
       "      <td>36.3</td>\n",
       "      <td>0.00094</td>\n",
       "      <td>-3.026872</td>\n",
       "      <td>3.899767</td>\n",
       "    </tr>\n",
       "    <tr>\n",
       "      <th>7</th>\n",
       "      <td>1.08</td>\n",
       "      <td>38.9</td>\n",
       "      <td>0.00108</td>\n",
       "      <td>-2.966576</td>\n",
       "      <td>3.974874</td>\n",
       "    </tr>\n",
       "    <tr>\n",
       "      <th>8</th>\n",
       "      <td>1.22</td>\n",
       "      <td>41.0</td>\n",
       "      <td>0.00122</td>\n",
       "      <td>-2.913640</td>\n",
       "      <td>4.031960</td>\n",
       "    </tr>\n",
       "    <tr>\n",
       "      <th>9</th>\n",
       "      <td>1.36</td>\n",
       "      <td>42.8</td>\n",
       "      <td>0.00136</td>\n",
       "      <td>-2.866461</td>\n",
       "      <td>4.078609</td>\n",
       "    </tr>\n",
       "    <tr>\n",
       "      <th>10</th>\n",
       "      <td>1.50</td>\n",
       "      <td>44.4</td>\n",
       "      <td>0.00150</td>\n",
       "      <td>-2.823909</td>\n",
       "      <td>4.118457</td>\n",
       "    </tr>\n",
       "    <tr>\n",
       "      <th>11</th>\n",
       "      <td>1.65</td>\n",
       "      <td>46.0</td>\n",
       "      <td>0.00165</td>\n",
       "      <td>-2.782516</td>\n",
       "      <td>4.156895</td>\n",
       "    </tr>\n",
       "    <tr>\n",
       "      <th>12</th>\n",
       "      <td>1.79</td>\n",
       "      <td>46.9</td>\n",
       "      <td>0.00179</td>\n",
       "      <td>-2.747147</td>\n",
       "      <td>4.177932</td>\n",
       "    </tr>\n",
       "    <tr>\n",
       "      <th>13</th>\n",
       "      <td>1.93</td>\n",
       "      <td>48.7</td>\n",
       "      <td>0.00193</td>\n",
       "      <td>-2.714443</td>\n",
       "      <td>4.218822</td>\n",
       "    </tr>\n",
       "    <tr>\n",
       "      <th>14</th>\n",
       "      <td>3.26</td>\n",
       "      <td>59.0</td>\n",
       "      <td>0.00326</td>\n",
       "      <td>-2.486782</td>\n",
       "      <td>4.427130</td>\n",
       "    </tr>\n",
       "    <tr>\n",
       "      <th>15</th>\n",
       "      <td>3.53</td>\n",
       "      <td>61.1</td>\n",
       "      <td>0.00353</td>\n",
       "      <td>-2.452225</td>\n",
       "      <td>4.465103</td>\n",
       "    </tr>\n",
       "    <tr>\n",
       "      <th>16</th>\n",
       "      <td>3.80</td>\n",
       "      <td>62.9</td>\n",
       "      <td>0.00380</td>\n",
       "      <td>-2.420216</td>\n",
       "      <td>4.496627</td>\n",
       "    </tr>\n",
       "    <tr>\n",
       "      <th>17</th>\n",
       "      <td>4.07</td>\n",
       "      <td>64.3</td>\n",
       "      <td>0.00407</td>\n",
       "      <td>-2.390406</td>\n",
       "      <td>4.520527</td>\n",
       "    </tr>\n",
       "    <tr>\n",
       "      <th>18</th>\n",
       "      <td>4.34</td>\n",
       "      <td>65.6</td>\n",
       "      <td>0.00434</td>\n",
       "      <td>-2.362510</td>\n",
       "      <td>4.542260</td>\n",
       "    </tr>\n",
       "    <tr>\n",
       "      <th>19</th>\n",
       "      <td>4.61</td>\n",
       "      <td>67.3</td>\n",
       "      <td>0.00461</td>\n",
       "      <td>-2.336299</td>\n",
       "      <td>4.570038</td>\n",
       "    </tr>\n",
       "    <tr>\n",
       "      <th>20</th>\n",
       "      <td>15.00</td>\n",
       "      <td>106.5</td>\n",
       "      <td>0.01500</td>\n",
       "      <td>-1.823909</td>\n",
       "      <td>5.068374</td>\n",
       "    </tr>\n",
       "    <tr>\n",
       "      <th>21</th>\n",
       "      <td>25.00</td>\n",
       "      <td>130.0</td>\n",
       "      <td>0.02500</td>\n",
       "      <td>-1.602060</td>\n",
       "      <td>5.284858</td>\n",
       "    </tr>\n",
       "    <tr>\n",
       "      <th>22</th>\n",
       "      <td>34.00</td>\n",
       "      <td>145.0</td>\n",
       "      <td>0.03400</td>\n",
       "      <td>-1.468521</td>\n",
       "      <td>5.403420</td>\n",
       "    </tr>\n",
       "    <tr>\n",
       "      <th>23</th>\n",
       "      <td>53.00</td>\n",
       "      <td>175.0</td>\n",
       "      <td>0.05300</td>\n",
       "      <td>-1.275724</td>\n",
       "      <td>5.607595</td>\n",
       "    </tr>\n",
       "    <tr>\n",
       "      <th>24</th>\n",
       "      <td>62.00</td>\n",
       "      <td>185.0</td>\n",
       "      <td>0.06200</td>\n",
       "      <td>-1.207608</td>\n",
       "      <td>5.667929</td>\n",
       "    </tr>\n",
       "  </tbody>\n",
       "</table>\n",
       "</div>"
      ],
      "text/plain": [
       "    t_msec    R_m    t_sec   log10_t  5/2*log10_R\n",
       "0     0.10   11.1  0.00010 -4.000000     2.613307\n",
       "1     0.24   19.9  0.00024 -3.619789     3.247133\n",
       "2     0.38   25.4  0.00038 -3.420216     3.512084\n",
       "3     0.52   28.8  0.00052 -3.283997     3.648481\n",
       "4     0.66   31.9  0.00066 -3.180456     3.759477\n",
       "5     0.80   34.2  0.00080 -3.096910     3.835065\n",
       "6     0.94   36.3  0.00094 -3.026872     3.899767\n",
       "7     1.08   38.9  0.00108 -2.966576     3.974874\n",
       "8     1.22   41.0  0.00122 -2.913640     4.031960\n",
       "9     1.36   42.8  0.00136 -2.866461     4.078609\n",
       "10    1.50   44.4  0.00150 -2.823909     4.118457\n",
       "11    1.65   46.0  0.00165 -2.782516     4.156895\n",
       "12    1.79   46.9  0.00179 -2.747147     4.177932\n",
       "13    1.93   48.7  0.00193 -2.714443     4.218822\n",
       "14    3.26   59.0  0.00326 -2.486782     4.427130\n",
       "15    3.53   61.1  0.00353 -2.452225     4.465103\n",
       "16    3.80   62.9  0.00380 -2.420216     4.496627\n",
       "17    4.07   64.3  0.00407 -2.390406     4.520527\n",
       "18    4.34   65.6  0.00434 -2.362510     4.542260\n",
       "19    4.61   67.3  0.00461 -2.336299     4.570038\n",
       "20   15.00  106.5  0.01500 -1.823909     5.068374\n",
       "21   25.00  130.0  0.02500 -1.602060     5.284858\n",
       "22   34.00  145.0  0.03400 -1.468521     5.403420\n",
       "23   53.00  175.0  0.05300 -1.275724     5.607595\n",
       "24   62.00  185.0  0.06200 -1.207608     5.667929"
      ]
     },
     "execution_count": 6,
     "metadata": {},
     "output_type": "execute_result"
    }
   ],
   "source": [
    "df_Trinity"
   ]
  },
  {
   "cell_type": "markdown",
   "metadata": {},
   "source": [
    "## Plotting the Trinity blast data"
   ]
  },
  {
   "cell_type": "code",
   "execution_count": 7,
   "metadata": {},
   "outputs": [
    {
     "data": {
      "image/png": "[encoded data removed]",
      "text/plain": [
       "<Figure size 720x720 with 1 Axes>"
      ]
     },
     "metadata": {},
     "output_type": "display_data"
    }
   ],
   "source": [
    "# Create the axes for the plotting\n",
    "fig, ax = plt.subplots(figsize=(10,10))\n",
    "\n",
    "# Set some basic variables that we'll use to adjust the axis ranges\n",
    "xmin, xmax = -4.5, 0\n",
    "ymin, ymax = 2, 7\n",
    "\n",
    "# Add a scatter plot to the axes\n",
    "ax.scatter(df_Trinity['log10_t'], df_Trinity['5/2*log10_R'], s=180, marker='+', color='r')\n",
    "\n",
    "# Clean up the aesthetics a bit\n",
    "ax.set(xlim=[xmin, xmax], \n",
    "       ylim=[ymin, ymax], \n",
    "       xlabel=r'$\\log(t)$', \n",
    "       ylabel=r'$\\frac{5}{2}\\log(R)$',\n",
    "       title=r'Radius $R$ of blast wave at time $t$ after explosion'\n",
    "      );\n",
    "\n",
    "# Safe plot to a file\n",
    "fig.savefig('TrinityBlastWave-raw.pdf', bbox_inches='tight')"
   ]
  },
  {
   "cell_type": "markdown",
   "metadata": {},
   "source": [
    "## Extracting a \"result\" from the data\n",
    "\n",
    "The plot above is great, but the plot itself does not tell us anything about the dynamics or kinematics of the blast. For that, we need to fit for the $y$-intercept."
   ]
  },
  {
   "cell_type": "markdown",
   "metadata": {},
   "source": [
    "### Fitting the data\n",
    "\n",
    "Let's fit a straight line to this data using a simple linear regression"
   ]
  },
  {
   "cell_type": "markdown",
   "metadata": {},
   "source": [
    "First, extract the values of the data into a simple array which is more easily used by numpy for fitting."
   ]
  },
  {
   "cell_type": "code",
   "execution_count": 8,
   "metadata": {},
   "outputs": [
    {
     "data": {
      "text/plain": [
       "array([-4.        , -3.61978876, -3.4202164 , -3.28399666, -3.18045606,\n",
       "       -3.09691001, -3.02687215, -2.96657624, -2.91364017, -2.86646109,\n",
       "       -2.82390874, -2.78251606, -2.74714697, -2.71444269, -2.4867824 ,\n",
       "       -2.45222529, -2.4202164 , -2.39040559, -2.36251027, -2.33629907,\n",
       "       -1.82390874, -1.60205999, -1.46852108, -1.27572413, -1.20760831])"
      ]
     },
     "execution_count": 8,
     "metadata": {},
     "output_type": "execute_result"
    }
   ],
   "source": [
    "values_logt = df_Trinity['log10_t'].values\n",
    "values_logt"
   ]
  },
  {
   "cell_type": "markdown",
   "metadata": {},
   "source": [
    "Manipulate the array so that we get a set of values that can be easily input into the `LinearRegression` library for `scikit-learn`: [`fit(X, y)`](https://scikit-learn.org/stable/modules/generated/sklearn.linear_model.LinearRegression.html). \n",
    "\n",
    "For this, we have to use `array.reshape(1, -1)` since the data represents just a single \"sample\" of the relationship (i.e. just one \"experiment\"). If you try to just use the simple 1-D array directly, you'll get an error message from `scikit-learn` telling you to do exactly this anyway."
   ]
  },
  {
   "cell_type": "code",
   "execution_count": 9,
   "metadata": {},
   "outputs": [
    {
     "data": {
      "text/plain": [
       "array([[-4.        ],\n",
       "       [-3.61978876],\n",
       "       [-3.4202164 ],\n",
       "       [-3.28399666],\n",
       "       [-3.18045606],\n",
       "       [-3.09691001],\n",
       "       [-3.02687215],\n",
       "       [-2.96657624],\n",
       "       [-2.91364017],\n",
       "       [-2.86646109],\n",
       "       [-2.82390874],\n",
       "       [-2.78251606],\n",
       "       [-2.74714697],\n",
       "       [-2.71444269],\n",
       "       [-2.4867824 ],\n",
       "       [-2.45222529],\n",
       "       [-2.4202164 ],\n",
       "       [-2.39040559],\n",
       "       [-2.36251027],\n",
       "       [-2.33629907],\n",
       "       [-1.82390874],\n",
       "       [-1.60205999],\n",
       "       [-1.46852108],\n",
       "       [-1.27572413],\n",
       "       [-1.20760831]])"
      ]
     },
     "execution_count": 9,
     "metadata": {},
     "output_type": "execute_result"
    }
   ],
   "source": [
    "X = values_logt.reshape(1, -1).T\n",
    "X"
   ]
  },
  {
   "cell_type": "code",
   "execution_count": 10,
   "metadata": {},
   "outputs": [
    {
     "data": {
      "text/plain": [
       "array([2.61330745, 3.24713269, 3.51208429, 3.64848122, 3.75947671,\n",
       "       3.83506527, 3.89976656, 3.974874  , 4.03195964, 4.07860942,\n",
       "       4.11845743, 4.15689458, 4.17793211, 4.2188224 , 4.42713003,\n",
       "       4.46510303, 4.49662661, 4.52052743, 4.5422596 , 4.57003766,\n",
       "       5.06837402, 5.28485838, 5.40342001, 5.60759512, 5.66792932])"
      ]
     },
     "execution_count": 10,
     "metadata": {},
     "output_type": "execute_result"
    }
   ],
   "source": [
    "values_logR = df_Trinity['5/2*log10_R'].values\n",
    "values_logR"
   ]
  },
  {
   "cell_type": "code",
   "execution_count": 11,
   "metadata": {},
   "outputs": [
    {
     "data": {
      "text/plain": [
       "((25,), (25, 1), (25,))"
      ]
     },
     "execution_count": 11,
     "metadata": {},
     "output_type": "execute_result"
    }
   ],
   "source": [
    "values_logt.shape, X.shape, values_logR.shape"
   ]
  },
  {
   "cell_type": "markdown",
   "metadata": {},
   "source": [
    "#### Perform the actual fit"
   ]
  },
  {
   "cell_type": "code",
   "execution_count": 12,
   "metadata": {},
   "outputs": [
    {
     "name": "stdout",
     "output_type": "stream",
     "text": [
      "slope    : m = 1.015\n",
      "intercept: b = 6.942\n"
     ]
    }
   ],
   "source": [
    "from sklearn.linear_model import LinearRegression\n",
    "\n",
    "trinity_model = LinearRegression()\n",
    "trinity_model.fit(X, values_logR)\n",
    "\n",
    "print(f'slope    : m = {trinity_model.coef_[0]:.3f}')\n",
    "print(f'intercept: b = {trinity_model.intercept_:.3f}')"
   ]
  },
  {
   "cell_type": "markdown",
   "metadata": {},
   "source": [
    "### Interpreting the results\n",
    "\n",
    "Now we have the $y$-intercept for the Trinity blast...but what does this tell us?"
   ]
  },
  {
   "cell_type": "markdown",
   "metadata": {},
   "source": [
    "The energy is given in terms of the intercept $b$ as\n",
    "\n",
    "$$ b = \\frac{1}{2} \\log \\left(\\frac{E}{k^5 \\rho}\\right) $$\n",
    "\n",
    "where $\\rho$=1.23 kg/m$^3$ is the density of air. \n",
    "\n",
    "The undetermined factor $k$ is more difficult, however. The good news is that Taylor determined the value using numerical integration to find an approximation, Sedov found an exact form. \n",
    "\n",
    "As also relayed by Diaz in his paper, there are accounts that say that Taylor scaled up the value of $k$ from small explosions, which is not true. The focus of the theoretical discussion in his first paper is about solving the hydrodynamic equations of the shock wave to find the value of this factor. "
   ]
  },
  {
   "cell_type": "code",
   "execution_count": 13,
   "metadata": {},
   "outputs": [
    {
     "data": {
      "image/png": "[encoded data removed]",
      "text/plain": [
       "<Figure size 720x720 with 1 Axes>"
      ]
     },
     "metadata": {},
     "output_type": "display_data"
    }
   ],
   "source": [
    "# Create the axes for the plotting\n",
    "fig, ax = plt.subplots(figsize=(10,10))\n",
    "\n",
    "# Set some basic variables that we'll use to adjust the axis ranges\n",
    "xmin, xmax = -4.5, 0\n",
    "ymin, ymax = 2, 7\n",
    "\n",
    "# Add a scatter plot to the axes\n",
    "ax.scatter(df_Trinity['log10_t'], df_Trinity['5/2*log10_R'], s=180, marker='+', color='r', label='data', zorder=10)\n",
    "\n",
    "# Add a linear fit\n",
    "trinity_logt = np.linspace(xmin, xmax, 2)\n",
    "ax.plot(trinity_logt, \n",
    "        trinity_model.intercept_ + trinity_model.coef_[0] * trinity_logt, \n",
    "        'k--', \n",
    "        linewidth=1, \n",
    "        label=f'linear regression', \n",
    "        zorder=0, \n",
    "        alpha=0.95)\n",
    "\n",
    "# Show the legend\n",
    "ax.legend();\n",
    "\n",
    "# Clean up the aesthetics a bit\n",
    "ax.set(xlim=[xmin, xmax], \n",
    "       ylim=[ymin, ymax], \n",
    "       xlabel=r'$\\log(t)$', \n",
    "       ylabel=r'$\\frac{5}{2}\\log(R)$',\n",
    "       title=r'Radius $R$ of blast wave at time $t$ after explosion'\n",
    "      );\n",
    "\n",
    "# Safe plot to a file\n",
    "fig.savefig('TrinityBlastWave-fit.pdf', bbox_inches='tight')"
   ]
  },
  {
   "cell_type": "markdown",
   "metadata": {},
   "source": [
    "### Determining the energy of the blast"
   ]
  },
  {
   "cell_type": "markdown",
   "metadata": {},
   "source": [
    "The energy is given in terms of the intercept $b$ as\n",
    "\n",
    "$$ E_0 = k^5 10^{2b}\\rho_0 $$\n",
    "\n",
    "where $\\rho_0$=1.23 kg/m$^3$ in the density of the undisturbed air, and the constant $k$ is determined by evaluating the hydrodynamics of air under intense pressure changes. By using the standard specific heat ratio $\\gamma$ (where $\\gamma=1.4$ for air) the constant was determined by Taylor to be $k^5 = S(1.4)^{-5}$ = 0.856."
   ]
  },
  {
   "cell_type": "code",
   "execution_count": 15,
   "metadata": {},
   "outputs": [
    {
     "name": "stdout",
     "output_type": "stream",
     "text": [
      "Trinity: Energy = 15.88 kt TNT  (6.6432E+13 J)\n"
     ]
    }
   ],
   "source": [
    "# explosion yield in kt TNT\n",
    "# 4.18 TJ = 1 kt TNT\n",
    "#E0 = 10**(2*trinity_model.intercept_) * 0.856 * 1.23\n",
    "E0 = 10**(2*6.9) * 0.856 * 1.23\n",
    "print(f'Trinity: Energy = {E0 / ( 4.184e12):.2f} kt TNT  ({E0:.4E} J)')"
   ]
  },
  {
   "cell_type": "code",
   "execution_count": null,
   "metadata": {},
   "outputs": [],
   "source": []
  }
 ],
 "metadata": {
  "kernelspec": {
   "display_name": "Python 3",
   "language": "python",
   "name": "python3"
  },
  "language_info": {
   "codemirror_mode": {
    "name": "ipython",
    "version": 3
   },
   "file_extension": ".py",
   "mimetype": "text/x-python",
   "name": "python",
   "nbconvert_exporter": "python",
   "pygments_lexer": "ipython3",
   "version": "3.7.6"
  }
 },
 "nbformat": 4,
 "nbformat_minor": 2
}
